{
 "cells": [
  {
   "cell_type": "markdown",
   "metadata": {},
   "source": [
    "In this notebook we will create the graph analysis for each of the agent's mode and traffic profiles per slice."
   ]
  },
  {
   "cell_type": "code",
   "execution_count": 1,
   "metadata": {},
   "outputs": [],
   "source": [
    "import sys\n",
    "sys.path.insert(0, '../')\n",
    "\n",
    "# # Import libraries\n",
    "import pandas as pd\n",
    "import numpy as np\n",
    "import matplotlib.pyplot as plt\n",
    "import networkx as nx\n",
    "import ast\n",
    "from graphviz import Digraph\n",
    "%matplotlib inline\n",
    "import plotly.graph_objects as go\n",
    "from plotly.subplots import make_subplots\n",
    "from IPython.display import display\n",
    "\n",
    "# Import Constatns\n",
    "from script.experiments_constants import AGENT_EXPERIMENT_INFO\n",
    "from script.experiments_constants import ENV_KPI_NAME_LIST\n",
    "\n",
    "from constants import PROJ_ADDR\n",
    "\n",
    "from script.load_data import handle_data\n",
    "from script.symbolic_representation import create_symbolic_state_decision_matrix"
   ]
  },
  {
   "cell_type": "markdown",
   "metadata": {},
   "source": [
    "# Load and Show some results for each one of the agents\n",
    "\n",
    "In this part we will load the data of one of the agents and visualize some of the numerical data."
   ]
  },
  {
   "cell_type": "markdown",
   "metadata": {},
   "source": [
    "## Graph Plotter Function Code"
   ]
  },
  {
   "cell_type": "code",
   "execution_count": null,
   "metadata": {},
   "outputs": [],
   "source": [
    "# Choose one of the agents: 'embb-trf1', 'embb-trf2', 'urllc-trf1', 'urllc-trf2'\n",
    "agent = 'urllc-trf1'\n",
    "\n",
    "# Choose one of the users: 3, 4, 5, 6 - Combination of agent and user will determine a specific experiment\n",
    "user = 3\n",
    "\n",
    "# Assuming AGENT_EXPERIMENT_INFO, handle_data and create_symbolic_state_decision_matrix are defined elsewhere in your codebase\n",
    "agent_info = AGENT_EXPERIMENT_INFO[agent]\n",
    "kpi_data, decision_data = handle_data(agent_info, user)\n",
    "symbolic_df, marker_df = create_symbolic_state_decision_matrix(kpi_data, decision_data, agent_info, user)\n",
    "symbolic_df['combined_decision'] = symbolic_df.apply(lambda row: f\"{row['prb_decision']} - {row['sched_decision']}\", axis=1)\n",
    "\n",
    "print(f\"Agent: {agent} - Users: {user}\")\n",
    "print(\"\")"
   ]
  },
  {
   "cell_type": "markdown",
   "metadata": {},
   "source": [
    "## Graph Plotter Util"
   ]
  },
  {
   "cell_type": "code",
   "execution_count": 83,
   "metadata": {},
   "outputs": [],
   "source": [
    "def plot_graph_from_data(df, column_name, output_path, node_threshold=0, edge_threshold=0, title_suffix=''):\n",
    "    cross_data = pd.crosstab(df[column_name], df[column_name].shift(-1), normalize='index') * 100\n",
    "    decision_counts = df[column_name].value_counts(normalize=True)\n",
    "    \n",
    "    # Filter nodes based on node_threshold\n",
    "    filtered_nodes = decision_counts[decision_counts >= node_threshold].index\n",
    "    \n",
    "    # Filter edges based on edge_threshold and filtered nodes\n",
    "    filtered_cross_data = cross_data.loc[filtered_nodes, filtered_nodes]\n",
    "    for i, row in filtered_cross_data.iterrows():\n",
    "        filtered_cross_data.loc[i] = row[row >= edge_threshold * 100]\n",
    "    \n",
    "    # Normalize the filtered cross data to ensure the probabilities sum to 1\n",
    "    filtered_cross_data = filtered_cross_data.div(filtered_cross_data.sum(axis=1), axis=0).fillna(0) * 100\n",
    "    \n",
    "    dot = Digraph(comment='Decision Graph', engine='dot')\n",
    "    \n",
    "    num_nodes = len(filtered_nodes)\n",
    "    num_edges = len(filtered_cross_data.columns)\n",
    "    \n",
    "    # Set the size of the graph based on the number of nodes and edges\n",
    "    width = max(12, num_nodes * 2)\n",
    "    height = max(8, num_edges)\n",
    "    dot.attr(rankdir='LR', size=f'{width},{height}', dpi='120', bgcolor='white')\n",
    "    \n",
    "    # Add nodes\n",
    "    for node, freq in decision_counts.items():\n",
    "        if node in filtered_nodes:\n",
    "            node_size = 1 + 2 * freq  # Moderate size difference\n",
    "            label = node.split(' - ')\n",
    "            label.append(f'prob: {freq:.1%}')\n",
    "            label = '\\n'.join(label)\n",
    "            dot.node(node, label, shape='ellipse', \n",
    "                     width=str(node_size), height=str(node_size),\n",
    "                     style='filled', fillcolor='#E6F3FF', color='#4A6FE3',\n",
    "                     fontname='Arial', fontsize='10')\n",
    "    \n",
    "    # Add edges\n",
    "    for i, row in filtered_cross_data.iterrows():\n",
    "        for j, prob in row.items():\n",
    "            if prob > 0:\n",
    "                penwidth = 0.5 + prob / 50  # Reduced edge width scaling\n",
    "                dot.edge(i, j, \n",
    "                         label=f'{prob:.1f}%', \n",
    "                         penwidth=str(penwidth),\n",
    "                         color='#4A6FE3',\n",
    "                         fontname='Arial', fontsize='8',\n",
    "                         fontcolor='#4A6FE3')\n",
    "    \n",
    "    # Add legend with title suffix\n",
    "    dot.attr(label=f'Node size: state frequency | Edge width: transition probability | {title_suffix}', \n",
    "             fontname='Arial', fontsize='12', labelloc='t')\n",
    "    \n",
    "    # Save the graph as a PDF\n",
    "    dot.render(output_path, format='pdf', cleanup=True)\n",
    "    \n",
    "    return dot"
   ]
  },
  {
   "cell_type": "markdown",
   "metadata": {},
   "source": [
    "## Create Graphs"
   ]
  },
  {
   "cell_type": "code",
   "execution_count": null,
   "metadata": {},
   "outputs": [],
   "source": [
    "# Plot the graph for each slice, display in the notebook, and save as PDF\n",
    "slices = [0, 1, 2]\n",
    "output_dir = f\"{proj_address}/A1-NetworkSlicingSchedulingPolicy/results/decision_graphs/{agent}-users{user}\"  # Specify the directory to save the graphs\n",
    "\n",
    "for slice_id in slices:\n",
    "    # Filter the data for the current slice\n",
    "    slice_data = symbolic_df[symbolic_df['slice_id'] == slice_id].copy()\n",
    "    \n",
    "    # Generate the graph with a title suffix indicating the slice number\n",
    "    title_suffix = f'Slice {slice_id}'\n",
    "    output_path = f\"{output_dir}/Decision_Graph_{agent}_user-{user}_slice-{slice_id}\"\n",
    "    \n",
    "    dot = plot_graph_from_data(slice_data, 'combined_decision', output_path, node_threshold=0.01, edge_threshold=0.01, title_suffix=title_suffix)\n",
    "    \n",
    "    # Display the graph inline\n",
    "    display(dot)\n",
    "\n",
    "print(\"Decision graphs have been generated, saved as PDFs, and displayed inline.\")"
   ]
  }
 ],
 "metadata": {
  "kernelspec": {
   "display_name": "symbxrl",
   "language": "python",
   "name": "python3"
  },
  "language_info": {
   "codemirror_mode": {
    "name": "ipython",
    "version": 3
   },
   "file_extension": ".py",
   "mimetype": "text/x-python",
   "name": "python",
   "nbconvert_exporter": "python",
   "pygments_lexer": "ipython3",
   "version": "3.11.9"
  }
 },
 "nbformat": 4,
 "nbformat_minor": 4
}
